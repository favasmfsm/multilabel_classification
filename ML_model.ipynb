{
 "cells": [
  {
   "cell_type": "markdown",
   "id": "4b470f6c-c9fe-4f80-92f6-b03d9cc6dc02",
   "metadata": {
    "jp-MarkdownHeadingCollapsed": true
   },
   "source": [
    "# Purpose\n",
    "get the training data for an ML model for predicting the category for a given SEC note"
   ]
  },
  {
   "cell_type": "markdown",
   "id": "c7b7fb8c-db29-437d-9c0b-509734f0a9ba",
   "metadata": {},
   "source": [
    "# Import Libs"
   ]
  },
  {
   "cell_type": "code",
   "execution_count": 36,
   "id": "438ac5c3-3f4b-4e87-be1c-e964b0b15d8b",
   "metadata": {},
   "outputs": [],
   "source": [
    "import pandas as pd\n",
    "import re\n",
    "import ast\n",
    "from sklearn.model_selection import train_test_split\n",
    "from sklearn.preprocessing import MultiLabelBinarizer\n",
    "import numpy as np\n",
    "from transformers import AutoTokenizer, AutoModel\n",
    "import torch\n",
    "import torch.nn as nn\n",
    "import torch.optim as optim\n",
    "from sklearn.metrics import accuracy_score, classification_report\n"
   ]
  },
  {
   "cell_type": "markdown",
   "id": "a9dfefde-6bc6-4ee2-ba44-e29c52e2eb7c",
   "metadata": {},
   "source": [
    "# Import data"
   ]
  },
  {
   "cell_type": "code",
   "execution_count": 37,
   "id": "e0ece93f-3497-4ccd-8212-384e8f98371c",
   "metadata": {},
   "outputs": [],
   "source": [
    "df = pd.read_csv(\"../output/labeled_data.csv\")"
   ]
  },
  {
   "cell_type": "code",
   "execution_count": 38,
   "id": "cd0a3390-7fa7-49ad-b77b-11f5903940b1",
   "metadata": {},
   "outputs": [],
   "source": [
    "df1 = pd.read_csv(\"../output/full_data.csv\")"
   ]
  },
  {
   "cell_type": "code",
   "execution_count": 39,
   "id": "0fcb8ace-efe5-4f50-8b56-be857a8c791a",
   "metadata": {},
   "outputs": [
    {
     "data": {
      "text/html": [
       "<div>\n",
       "<style scoped>\n",
       "    .dataframe tbody tr th:only-of-type {\n",
       "        vertical-align: middle;\n",
       "    }\n",
       "\n",
       "    .dataframe tbody tr th {\n",
       "        vertical-align: top;\n",
       "    }\n",
       "\n",
       "    .dataframe thead th {\n",
       "        text-align: right;\n",
       "    }\n",
       "</style>\n",
       "<table border=\"1\" class=\"dataframe\">\n",
       "  <thead>\n",
       "    <tr style=\"text-align: right;\">\n",
       "      <th></th>\n",
       "      <th>file_name</th>\n",
       "      <th>expl_note_gpt</th>\n",
       "      <th>labels</th>\n",
       "      <th>expl_note</th>\n",
       "      <th>rule_based_label</th>\n",
       "    </tr>\n",
       "  </thead>\n",
       "  <tbody>\n",
       "    <tr>\n",
       "      <th>0</th>\n",
       "      <td>k_0001193125-17-189495.txt</td>\n",
       "      <td>The principal purpose of this Amendment is to ...</td>\n",
       "      <td>['Part III', 'Disclosure', 'Restatements']</td>\n",
       "      <td>EXPLANATORY NOTE \\nThe registrant is filing th...</td>\n",
       "      <td>['Restatements', 'Part III', 'Disclosure']</td>\n",
       "    </tr>\n",
       "    <tr>\n",
       "      <th>1</th>\n",
       "      <td>q_0001294250-12-000007.txt</td>\n",
       "      <td>The sole purpose of this Amendment No. 1 to Ra...</td>\n",
       "      <td>['Exhibit 101']</td>\n",
       "      <td>EXPLANATORY NOTE\\n\\nThe sole purpose of this A...</td>\n",
       "      <td>['Exhibit 101']</td>\n",
       "    </tr>\n",
       "  </tbody>\n",
       "</table>\n",
       "</div>"
      ],
      "text/plain": [
       "                    file_name  \\\n",
       "0  k_0001193125-17-189495.txt   \n",
       "1  q_0001294250-12-000007.txt   \n",
       "\n",
       "                                       expl_note_gpt  \\\n",
       "0  The principal purpose of this Amendment is to ...   \n",
       "1  The sole purpose of this Amendment No. 1 to Ra...   \n",
       "\n",
       "                                       labels  \\\n",
       "0  ['Part III', 'Disclosure', 'Restatements']   \n",
       "1                             ['Exhibit 101']   \n",
       "\n",
       "                                           expl_note  \\\n",
       "0  EXPLANATORY NOTE \\nThe registrant is filing th...   \n",
       "1  EXPLANATORY NOTE\\n\\nThe sole purpose of this A...   \n",
       "\n",
       "                             rule_based_label  \n",
       "0  ['Restatements', 'Part III', 'Disclosure']  \n",
       "1                             ['Exhibit 101']  "
      ]
     },
     "execution_count": 39,
     "metadata": {},
     "output_type": "execute_result"
    }
   ],
   "source": [
    "df.head(2)"
   ]
  },
  {
   "cell_type": "code",
   "execution_count": 40,
   "id": "86c86e49-c157-4fa8-906e-b7d8dc88d5c4",
   "metadata": {},
   "outputs": [],
   "source": [
    "def convert_to_list(entry):\n",
    "    try:\n",
    "        return ast.literal_eval(entry)\n",
    "    except:\n",
    "        pass"
   ]
  },
  {
   "cell_type": "code",
   "execution_count": 41,
   "id": "f5ecabdc-acc5-442a-ba5f-b61ee9554b01",
   "metadata": {},
   "outputs": [],
   "source": [
    "df['labels'] = df.labels.apply(convert_to_list)\n",
    "df['rule_based_label'] = df.rule_based_label.apply(convert_to_list)"
   ]
  },
  {
   "cell_type": "code",
   "execution_count": 42,
   "id": "e9ff3365-3e63-4e07-b141-1efc085aca34",
   "metadata": {},
   "outputs": [],
   "source": [
    "df1['labels'] = df1.labels.apply(convert_to_list)\n",
    "df1['rule_based_label'] = df1.rule_based_label.apply(convert_to_list)"
   ]
  },
  {
   "cell_type": "code",
   "execution_count": 43,
   "id": "e3f4708c-4cee-48e2-acec-7ae3a83a1426",
   "metadata": {},
   "outputs": [],
   "source": [
    "df1 = df1[(df1.labels.isna()) & (df1.rule_based_label.apply(lambda x: x!=['None of the above']))]"
   ]
  },
  {
   "cell_type": "code",
   "execution_count": 44,
   "id": "fefb13ca-aa78-47b3-9f3f-f3ef11b84b8a",
   "metadata": {},
   "outputs": [
    {
     "data": {
      "text/plain": [
       "rule_based_label\n",
       "[Errors]                                                                                7562\n",
       "[Restatements]                                                                          5924\n",
       "[Exhibit 101]                                                                           5630\n",
       "[Part III]                                                                              5245\n",
       "[Restatements, Errors]                                                                  3181\n",
       "                                                                                        ... \n",
       "[Errors, Part III, Filing the audit report, Report on Internal Controls, Disclosure]       1\n",
       "[Errors, Exhibit 101, Disclosure, Amend financial statements]                              1\n",
       "[Signatures, Disclosure, Amend financial statements]                                       1\n",
       "[Errors, Part III, Amend financial statements]                                             1\n",
       "[Restatements, Disclosure, Amend financial statements]                                     1\n",
       "Name: count, Length: 148, dtype: int64"
      ]
     },
     "execution_count": 44,
     "metadata": {},
     "output_type": "execute_result"
    }
   ],
   "source": [
    "df1.rule_based_label.value_counts()"
   ]
  },
  {
   "cell_type": "code",
   "execution_count": 45,
   "id": "aa3d8c96-d441-4502-be7a-479af7f9f1fd",
   "metadata": {},
   "outputs": [],
   "source": [
    "df1.labels.fillna(df1.rule_based_label,inplace=True)"
   ]
  },
  {
   "cell_type": "code",
   "execution_count": 46,
   "id": "4706da25-3de3-433f-91e4-88b771264a5d",
   "metadata": {},
   "outputs": [
    {
     "data": {
      "text/html": [
       "<div>\n",
       "<style scoped>\n",
       "    .dataframe tbody tr th:only-of-type {\n",
       "        vertical-align: middle;\n",
       "    }\n",
       "\n",
       "    .dataframe tbody tr th {\n",
       "        vertical-align: top;\n",
       "    }\n",
       "\n",
       "    .dataframe thead th {\n",
       "        text-align: right;\n",
       "    }\n",
       "</style>\n",
       "<table border=\"1\" class=\"dataframe\">\n",
       "  <thead>\n",
       "    <tr style=\"text-align: right;\">\n",
       "      <th></th>\n",
       "      <th>file_name</th>\n",
       "      <th>expl_note_gpt</th>\n",
       "      <th>labels</th>\n",
       "      <th>expl_note</th>\n",
       "      <th>rule_based_label</th>\n",
       "    </tr>\n",
       "  </thead>\n",
       "  <tbody>\n",
       "    <tr>\n",
       "      <th>19</th>\n",
       "      <td>q_0001264931-11-000480.txt</td>\n",
       "      <td>The purpose of this Amendment No. 1 to the Qua...</td>\n",
       "      <td>[Exhibit 101]</td>\n",
       "      <td>EXPLANATORY NOTE \\nThis Amendment No. 1 to the...</td>\n",
       "      <td>[Exhibit 101]</td>\n",
       "    </tr>\n",
       "    <tr>\n",
       "      <th>21</th>\n",
       "      <td>k_0001264931-15-000058.txt</td>\n",
       "      <td>The purpose of this Amendment No. 1 to Annual ...</td>\n",
       "      <td>[Errors]</td>\n",
       "      <td>EXPLANATORY NOTE \\n\\n This Amendment No. 1 to ...</td>\n",
       "      <td>[Errors]</td>\n",
       "    </tr>\n",
       "  </tbody>\n",
       "</table>\n",
       "</div>"
      ],
      "text/plain": [
       "                     file_name  \\\n",
       "19  q_0001264931-11-000480.txt   \n",
       "21  k_0001264931-15-000058.txt   \n",
       "\n",
       "                                        expl_note_gpt         labels  \\\n",
       "19  The purpose of this Amendment No. 1 to the Qua...  [Exhibit 101]   \n",
       "21  The purpose of this Amendment No. 1 to Annual ...       [Errors]   \n",
       "\n",
       "                                            expl_note rule_based_label  \n",
       "19  EXPLANATORY NOTE \\nThis Amendment No. 1 to the...    [Exhibit 101]  \n",
       "21  EXPLANATORY NOTE \\n\\n This Amendment No. 1 to ...         [Errors]  "
      ]
     },
     "execution_count": 46,
     "metadata": {},
     "output_type": "execute_result"
    }
   ],
   "source": [
    "df1.head(2)"
   ]
  },
  {
   "cell_type": "code",
   "execution_count": 47,
   "id": "c9d4a80e-41fa-4eff-9e6f-4026b204da04",
   "metadata": {},
   "outputs": [
    {
     "name": "stdout",
     "output_type": "stream",
     "text": [
      "(1192, 5)\n",
      "(1133, 5)\n"
     ]
    }
   ],
   "source": [
    "print(df.shape)\n",
    "df = df[df.labels.apply(lambda x: x!=['None of the above'])]\n",
    "print(df.shape)"
   ]
  },
  {
   "cell_type": "code",
   "execution_count": 48,
   "id": "781c05f0-1c0c-4732-afd3-2656cbf27ef0",
   "metadata": {},
   "outputs": [],
   "source": [
    "train_df, test_df = train_test_split(df, test_size=0.5)\n"
   ]
  },
  {
   "cell_type": "code",
   "execution_count": 49,
   "id": "94713384-d475-4307-bc31-14a6c302756a",
   "metadata": {},
   "outputs": [
    {
     "data": {
      "text/plain": [
       "(36298, 5)"
      ]
     },
     "execution_count": 49,
     "metadata": {},
     "output_type": "execute_result"
    }
   ],
   "source": [
    "df1.shape"
   ]
  },
  {
   "cell_type": "code",
   "execution_count": 15,
   "id": "82c5d3c9-e21d-4365-ae42-f0f7eddfac19",
   "metadata": {},
   "outputs": [],
   "source": [
    "train_df = pd.concat([train_df,df1.head(3000)])"
   ]
  },
  {
   "cell_type": "code",
   "execution_count": 16,
   "id": "99820772-97bd-463d-9f21-2b6209cfac4f",
   "metadata": {},
   "outputs": [
    {
     "data": {
      "text/plain": [
       "(3566, 5)"
      ]
     },
     "execution_count": 16,
     "metadata": {},
     "output_type": "execute_result"
    }
   ],
   "source": [
    "train_df.shape"
   ]
  },
  {
   "cell_type": "code",
   "execution_count": 17,
   "id": "21f62498-e8dc-463c-bc1d-98c929bd9cb3",
   "metadata": {},
   "outputs": [
    {
     "name": "stderr",
     "output_type": "stream",
     "text": [
      "/opt/homebrew/lib/python3.11/site-packages/huggingface_hub/file_download.py:1132: FutureWarning: `resume_download` is deprecated and will be removed in version 1.0.0. Downloads always resume when possible. If you want to force a new download, use `force_download=True`.\n",
      "  warnings.warn(\n"
     ]
    }
   ],
   "source": [
    "# Load the tokenizer and model from Hugging Face\n",
    "tokenizer = AutoTokenizer.from_pretrained('bert-base-uncased')\n",
    "bert_model = AutoModel.from_pretrained('bert-base-uncased')\n",
    "\n",
    "# Function to get embeddings\n",
    "def get_embeddings(texts):\n",
    "    inputs = tokenizer(texts, return_tensors='pt', padding=True, truncation=True)\n",
    "    with torch.no_grad():\n",
    "        outputs = bert_model(**inputs)\n",
    "    embeddings = outputs.last_hidden_state.mean(dim=1).cpu().numpy()\n",
    "    return embeddings"
   ]
  },
  {
   "cell_type": "code",
   "execution_count": 18,
   "id": "56154b69-a8d4-4fd9-b98a-fddecd3c2faa",
   "metadata": {},
   "outputs": [],
   "source": [
    "# Convert `expl_note_gpt` to embeddings\n",
    "train_embeddings = get_embeddings(train_df['expl_note_gpt'].tolist())"
   ]
  },
  {
   "cell_type": "code",
   "execution_count": 19,
   "id": "50663167-4875-46fb-b15e-c14ccfa1f04d",
   "metadata": {
    "jp-MarkdownHeadingCollapsed": true
   },
   "outputs": [],
   "source": [
    "import pickle\n",
    "\n",
    "# Save embeddings to a pickle file\n",
    "with open('train_full_embeddings.pkl', 'wb') as f:\n",
    "    pickle.dump(train_embeddings, f)"
   ]
  },
  {
   "cell_type": "code",
   "execution_count": 20,
   "id": "254b6c4b-2b6d-456b-9cab-d7dbff212be6",
   "metadata": {},
   "outputs": [],
   "source": [
    "test_embeddings = get_embeddings(test_df['expl_note_gpt'].tolist())"
   ]
  },
  {
   "cell_type": "code",
   "execution_count": 21,
   "id": "e3438858-acb2-4061-8236-baf042780b22",
   "metadata": {
    "jp-MarkdownHeadingCollapsed": true
   },
   "outputs": [],
   "source": [
    "# Save embeddings to a pickle file\n",
    "with open('test_full_embeddings.pkl', 'wb') as f:\n",
    "    pickle.dump(train_embeddings, f)"
   ]
  },
  {
   "cell_type": "markdown",
   "id": "976e5418-4b95-4788-8ec1-ccac5f2cc972",
   "metadata": {},
   "source": [
    "import pickle\n",
    "\n",
    "# Load embeddings from the pickle file\n",
    "with open('embeddings.pkl', 'rb') as f:\n",
    "    embeddings = pickle.load(f)\n"
   ]
  },
  {
   "cell_type": "code",
   "execution_count": null,
   "id": "d651a84e-cba8-4740-92fa-20b469ff5c63",
   "metadata": {},
   "outputs": [],
   "source": []
  },
  {
   "cell_type": "code",
   "execution_count": 22,
   "id": "35402ae2-080b-477f-9af5-20f9727f5fce",
   "metadata": {},
   "outputs": [],
   "source": [
    "# Step 2: Encode `rule_based_label` and `labels` into arrays of size 11\n",
    "mlb = MultiLabelBinarizer()\n",
    "train_rule_based_label_encoded = mlb.fit_transform(train_df['rule_based_label'])\n",
    "train_labels_encoded = mlb.transform(train_df['labels'])"
   ]
  },
  {
   "cell_type": "code",
   "execution_count": 23,
   "id": "c0746bda-0e54-43be-baf9-15b77ae5d245",
   "metadata": {},
   "outputs": [],
   "source": [
    "# Step 2: Encode `rule_based_label` and `labels` into arrays of size 11\n",
    "mlb = MultiLabelBinarizer()\n",
    "test_rule_based_label_encoded = mlb.fit_transform(test_df['rule_based_label'])\n",
    "test_labels_encoded = mlb.transform(test_df['labels'])"
   ]
  },
  {
   "cell_type": "code",
   "execution_count": 24,
   "id": "78a1f61e-64b5-4c34-9ea2-9419f1e94714",
   "metadata": {},
   "outputs": [],
   "source": [
    "# Step 3: Append `rule_based_label` encoding to the embeddings\n",
    "train_features = torch.tensor(train_embeddings)\n",
    "train_rule_based_label_features = torch.tensor(train_rule_based_label_encoded)\n",
    "train_combined_features = torch.cat((train_features, train_rule_based_label_features), dim=1).numpy()\n"
   ]
  },
  {
   "cell_type": "code",
   "execution_count": 25,
   "id": "93d0436a-73b7-4951-84ea-af17084004ce",
   "metadata": {},
   "outputs": [],
   "source": [
    "# Step 3: Append `rule_based_label` encoding to the embeddings\n",
    "test_features = torch.tensor(test_embeddings)\n",
    "test_rule_based_label_features = torch.tensor(test_rule_based_label_encoded)\n",
    "test_combined_features = torch.cat((test_features, test_rule_based_label_features), dim=1).numpy()\n",
    "\n",
    "# Step 4: Train a model\n",
    "X_train = train_combined_features\n",
    "X_test = test_combined_features\n",
    "y_train = train_labels_encoded\n",
    "y_test = test_labels_encoded\n"
   ]
  },
  {
   "cell_type": "code",
   "execution_count": null,
   "id": "a23e1d75-e1a6-44c9-a74c-bf14cdbf3ebb",
   "metadata": {},
   "outputs": [],
   "source": [
    "import torch\n",
    "from torch.utils.data import DataLoader, TensorDataset\n",
    "\n",
    "# Convert to PyTorch tensors\n",
    "X_train = torch.tensor(X_train, dtype=torch.float32)\n",
    "X_test = torch.tensor(X_test, dtype=torch.float32)\n",
    "y_train = torch.tensor(y_train, dtype=torch.float32)\n",
    "y_test = torch.tensor(y_test, dtype=torch.float32)\n",
    "\n",
    "# Define the neural network\n",
    "class SimpleNN(nn.Module):\n",
    "    def __init__(self, input_dim, output_dim):\n",
    "        super(SimpleNN, self).__init__()\n",
    "        self.fc1 = nn.Linear(input_dim, 256)\n",
    "        self.fc2 = nn.Linear(256, 128)\n",
    "        self.fc3 = nn.Linear(128, 64)\n",
    "        self.fc4 = nn.Linear(64, output_dim)\n",
    "        self.relu = nn.ReLU()\n",
    "        self.dropout = nn.Dropout(0.3)\n",
    "    \n",
    "    def forward(self, x):\n",
    "        x = self.relu(self.fc1(x))\n",
    "        x = self.dropout(x)\n",
    "        x = self.relu(self.fc2(x))\n",
    "        x = self.dropout(x)\n",
    "        x = self.relu(self.fc3(x))\n",
    "        x = self.dropout(x)\n",
    "        x = torch.sigmoid(self.fc4(x))\n",
    "        return x\n",
    "\n",
    "# Parameters\n",
    "input_dim = X_train.shape[1]\n",
    "output_dim = y_train.shape[1]\n",
    "batch_size = 64\n",
    "num_epochs = 40000\n",
    "\n",
    "# Create DataLoader\n",
    "train_dataset = TensorDataset(X_train, y_train)\n",
    "train_loader = DataLoader(dataset=train_dataset, batch_size=batch_size, shuffle=True)\n",
    "\n",
    "# Initialize model, loss, and optimizer\n",
    "model = SimpleNN(input_dim, output_dim)\n",
    "criterion = nn.BCELoss()\n",
    "optimizer = optim.Adam(model.parameters(), lr=0.001)\n",
    "\n",
    "# Training loop\n",
    "for epoch in range(num_epochs):\n",
    "    model.train()\n",
    "    for i, (batch_X, batch_y) in enumerate(train_loader):\n",
    "        optimizer.zero_grad()\n",
    "        outputs = model(batch_X)\n",
    "        loss = criterion(outputs, batch_y)\n",
    "        loss.backward()\n",
    "        optimizer.step()\n",
    "    \n",
    "    if epoch % 1000 == 0:\n",
    "        print(f'Epoch {epoch+1}/{num_epochs}, Loss: {loss.item()}')\n"
   ]
  },
  {
   "cell_type": "code",
   "execution_count": 28,
   "id": "359aea24-b08e-4858-9665-3811b55cae42",
   "metadata": {},
   "outputs": [],
   "source": [
    "# Evaluation\n",
    "model.eval()\n",
    "with torch.no_grad():\n",
    "    y_pred = model(X_test)\n",
    "    y_pred = (y_pred > 0.001).float()"
   ]
  },
  {
   "cell_type": "code",
   "execution_count": 29,
   "id": "767a2b4b-1890-4b41-b3da-87d981e03e99",
   "metadata": {},
   "outputs": [],
   "source": [
    "# Convert to numpy arrays for evaluation\n",
    "y_pred = y_pred.numpy()"
   ]
  },
  {
   "cell_type": "code",
   "execution_count": 30,
   "id": "5b00e6da-8818-4d87-8509-2a40244a2e45",
   "metadata": {},
   "outputs": [],
   "source": [
    "y_test = y_test.numpy()"
   ]
  },
  {
   "cell_type": "code",
   "execution_count": 31,
   "id": "0d5721bb-6079-4fae-88c4-0fc1cd736a84",
   "metadata": {},
   "outputs": [
    {
     "name": "stdout",
     "output_type": "stream",
     "text": [
      "Accuracy: 0.8606701940035273\n",
      "Classification Report:\n",
      "                             precision    recall  f1-score   support\n",
      "\n",
      " Amend financial statements       1.00      1.00      1.00        33\n",
      "                 Disclosure       1.00      1.00      1.00        70\n",
      "                     Errors       0.73      0.93      0.82       121\n",
      "                Exhibit 101       0.94      0.98      0.96        63\n",
      "    Filing the audit report       1.00      1.00      1.00        39\n",
      "          None of the above       0.00      0.00      0.00         0\n",
      "                   Part III       0.90      0.91      0.91        70\n",
      "Report on Internal Controls       1.00      1.00      1.00        63\n",
      " Responding to SEC comments       1.00      1.00      1.00        46\n",
      "               Restatements       0.86      0.91      0.88       106\n",
      "                 Signatures       1.00      0.23      0.38        13\n",
      "\n",
      "                  micro avg       0.90      0.94      0.92       624\n",
      "                  macro avg       0.86      0.82      0.81       624\n",
      "               weighted avg       0.91      0.94      0.92       624\n",
      "                samples avg       0.92      0.95      0.93       624\n",
      "\n"
     ]
    },
    {
     "name": "stderr",
     "output_type": "stream",
     "text": [
      "/opt/homebrew/lib/python3.11/site-packages/sklearn/metrics/_classification.py:1469: UndefinedMetricWarning: Precision and F-score are ill-defined and being set to 0.0 in labels with no predicted samples. Use `zero_division` parameter to control this behavior.\n",
      "  _warn_prf(average, modifier, msg_start, len(result))\n",
      "/opt/homebrew/lib/python3.11/site-packages/sklearn/metrics/_classification.py:1469: UndefinedMetricWarning: Recall and F-score are ill-defined and being set to 0.0 in labels with no true samples. Use `zero_division` parameter to control this behavior.\n",
      "  _warn_prf(average, modifier, msg_start, len(result))\n",
      "/opt/homebrew/lib/python3.11/site-packages/sklearn/metrics/_classification.py:1469: UndefinedMetricWarning: Precision and F-score are ill-defined and being set to 0.0 in samples with no predicted labels. Use `zero_division` parameter to control this behavior.\n",
      "  _warn_prf(average, modifier, msg_start, len(result))\n"
     ]
    }
   ],
   "source": [
    "# Evaluate the model\n",
    "print('Accuracy:', accuracy_score(y_test, y_pred))\n",
    "print('Classification Report:')\n",
    "print(classification_report(y_test, y_pred, target_names=mlb.classes_))\n"
   ]
  },
  {
   "cell_type": "code",
   "execution_count": 32,
   "id": "fc5d6fba-b459-4cfd-b1ce-b90be3606c3b",
   "metadata": {},
   "outputs": [
    {
     "data": {
      "text/plain": [
       "array([0., 1., 1., 0., 0., 0., 1., 0., 0., 0., 0.], dtype=float32)"
      ]
     },
     "execution_count": 32,
     "metadata": {},
     "output_type": "execute_result"
    }
   ],
   "source": [
    "y_test[0]"
   ]
  },
  {
   "cell_type": "code",
   "execution_count": 33,
   "id": "5f8c87c6-817e-4184-af83-300cdde44174",
   "metadata": {},
   "outputs": [
    {
     "data": {
      "text/plain": [
       "array([0., 1., 1., 0., 0., 0., 1., 0., 0., 0., 0.], dtype=float32)"
      ]
     },
     "execution_count": 33,
     "metadata": {},
     "output_type": "execute_result"
    }
   ],
   "source": [
    "y_pred[0]"
   ]
  },
  {
   "cell_type": "code",
   "execution_count": 34,
   "id": "73aa28c4-f354-47ee-a576-df2c5dae71a2",
   "metadata": {},
   "outputs": [],
   "source": [
    "# Combine results in a dataframe\n",
    "df_results = test_df.copy()\n",
    "df_results['rule_based_label'] = test_df['rule_based_label'].apply(lambda x: list(x))\n",
    "df_results['actual_labels'] = mlb.inverse_transform(y_test)\n",
    "df_results['predicted_labels'] = mlb.inverse_transform(y_pred)\n",
    "\n",
    "# Convert tuples to lists for better readability\n",
    "df_results['actual_labels'] = df_results['actual_labels'].apply(lambda x: list(x))\n",
    "df_results['predicted_labels'] = df_results['predicted_labels'].apply(lambda x: list(x))\n",
    "\n"
   ]
  },
  {
   "cell_type": "code",
   "execution_count": 35,
   "id": "682cdc27-31f6-432c-96d1-8134e65cb90f",
   "metadata": {},
   "outputs": [
    {
     "data": {
      "text/html": [
       "<div>\n",
       "<style scoped>\n",
       "    .dataframe tbody tr th:only-of-type {\n",
       "        vertical-align: middle;\n",
       "    }\n",
       "\n",
       "    .dataframe tbody tr th {\n",
       "        vertical-align: top;\n",
       "    }\n",
       "\n",
       "    .dataframe thead th {\n",
       "        text-align: right;\n",
       "    }\n",
       "</style>\n",
       "<table border=\"1\" class=\"dataframe\">\n",
       "  <thead>\n",
       "    <tr style=\"text-align: right;\">\n",
       "      <th></th>\n",
       "      <th>file_name</th>\n",
       "      <th>expl_note_gpt</th>\n",
       "      <th>labels</th>\n",
       "      <th>expl_note</th>\n",
       "      <th>rule_based_label</th>\n",
       "      <th>actual_labels</th>\n",
       "      <th>predicted_labels</th>\n",
       "    </tr>\n",
       "  </thead>\n",
       "  <tbody>\n",
       "    <tr>\n",
       "      <th>764</th>\n",
       "      <td>q_0001213900-22-078475.txt</td>\n",
       "      <td>The purpose of this Amendment No. 1 is to amen...</td>\n",
       "      <td>[Restatements]</td>\n",
       "      <td>EXPLANATORY NOTE\\n\\nGesher I Acquisition Corp....</td>\n",
       "      <td>[Restatements, Errors]</td>\n",
       "      <td>[Restatements]</td>\n",
       "      <td>[Errors, Restatements]</td>\n",
       "    </tr>\n",
       "    <tr>\n",
       "      <th>386</th>\n",
       "      <td>q_0001193125-12-443958.txt</td>\n",
       "      <td>The purpose of this Amendment No. 1 to our Qua...</td>\n",
       "      <td>[Exhibit 101, Errors]</td>\n",
       "      <td>Explanatory Note  The purpose of this Amendmen...</td>\n",
       "      <td>[Errors, Exhibit 101]</td>\n",
       "      <td>[Errors, Exhibit 101]</td>\n",
       "      <td>[Errors, Exhibit 101]</td>\n",
       "    </tr>\n",
       "    <tr>\n",
       "      <th>579</th>\n",
       "      <td>q_0001193125-21-320268.txt</td>\n",
       "      <td>The purpose of this Amendment is to refile the...</td>\n",
       "      <td>[Signatures]</td>\n",
       "      <td>EXPLANATORY NOTE \\n\\n   We are filing this Ame...</td>\n",
       "      <td>[None of the above]</td>\n",
       "      <td>[Signatures]</td>\n",
       "      <td>[Errors]</td>\n",
       "    </tr>\n",
       "    <tr>\n",
       "      <th>885</th>\n",
       "      <td>q_0001019687-15-001871.txt</td>\n",
       "      <td>The purpose of this amendment is to file a res...</td>\n",
       "      <td>[Restatements]</td>\n",
       "      <td>EXPLANATORY NOTE \\n\\n This Amendment No. 1 to ...</td>\n",
       "      <td>[Restatements, Errors]</td>\n",
       "      <td>[Restatements]</td>\n",
       "      <td>[Errors, Restatements]</td>\n",
       "    </tr>\n",
       "    <tr>\n",
       "      <th>286</th>\n",
       "      <td>q_0001255823-12-000005.txt</td>\n",
       "      <td>The sole purpose of this Amendment No. 1 on Fo...</td>\n",
       "      <td>[Exhibit 101, Errors]</td>\n",
       "      <td>EXPLANATORY NOTE \\nThe sole purpose of this Am...</td>\n",
       "      <td>[Errors, Exhibit 101]</td>\n",
       "      <td>[Errors, Exhibit 101]</td>\n",
       "      <td>[Errors, Exhibit 101]</td>\n",
       "    </tr>\n",
       "    <tr>\n",
       "      <th>...</th>\n",
       "      <td>...</td>\n",
       "      <td>...</td>\n",
       "      <td>...</td>\n",
       "      <td>...</td>\n",
       "      <td>...</td>\n",
       "      <td>...</td>\n",
       "      <td>...</td>\n",
       "    </tr>\n",
       "    <tr>\n",
       "      <th>804</th>\n",
       "      <td>k_0001437749-13-011098.txt</td>\n",
       "      <td>The Company is filing this Amendment No. 1 to ...</td>\n",
       "      <td>[Restatements]</td>\n",
       "      <td>EXPLANATORY NOTE\\n\\nSubsequent to filing its A...</td>\n",
       "      <td>[Restatements, Errors]</td>\n",
       "      <td>[Restatements]</td>\n",
       "      <td>[Errors, Restatements]</td>\n",
       "    </tr>\n",
       "    <tr>\n",
       "      <th>1156</th>\n",
       "      <td>k_0001193125-17-280836.txt</td>\n",
       "      <td>The purpose of this Amendment is to amend and ...</td>\n",
       "      <td>[Report on Internal Controls]</td>\n",
       "      <td>Explanatory Note\\n\\n2\\n\\nPART II\\n\\n ITEM 9A.\\...</td>\n",
       "      <td>[Restatements, Part III, Report on Internal Co...</td>\n",
       "      <td>[Report on Internal Controls]</td>\n",
       "      <td>[Part III, Report on Internal Controls]</td>\n",
       "    </tr>\n",
       "    <tr>\n",
       "      <th>568</th>\n",
       "      <td>k_0001144204-13-035058.txt</td>\n",
       "      <td>The purpose of this Amendment No. 1 is to file...</td>\n",
       "      <td>[Errors]</td>\n",
       "      <td>EXPLANATORY NOTE\\n\\nGBS Enterprises Incorporat...</td>\n",
       "      <td>[Errors, Exhibit 101]</td>\n",
       "      <td>[Errors]</td>\n",
       "      <td>[Errors, Exhibit 101]</td>\n",
       "    </tr>\n",
       "    <tr>\n",
       "      <th>572</th>\n",
       "      <td>k_0001418819-21-000016.txt</td>\n",
       "      <td>The purpose of this Amendment No. 1 on Form 10...</td>\n",
       "      <td>[Signatures, Disclosure]</td>\n",
       "      <td>EXPLANATORY NOTE\\nThis Amendment No. 1 on Form...</td>\n",
       "      <td>[Signatures, Disclosure]</td>\n",
       "      <td>[Disclosure, Signatures]</td>\n",
       "      <td>[Disclosure, Signatures]</td>\n",
       "    </tr>\n",
       "    <tr>\n",
       "      <th>645</th>\n",
       "      <td>q_0001594062-14-000233.txt</td>\n",
       "      <td>The purpose of this Amendment No. 1 on Form 10...</td>\n",
       "      <td>[Exhibit 101, Disclosure, Errors]</td>\n",
       "      <td>Explanatory Note\\n\\n                This Amend...</td>\n",
       "      <td>[Errors, Exhibit 101, Disclosure]</td>\n",
       "      <td>[Disclosure, Errors, Exhibit 101]</td>\n",
       "      <td>[Disclosure, Errors, Exhibit 101]</td>\n",
       "    </tr>\n",
       "  </tbody>\n",
       "</table>\n",
       "<p>94 rows × 7 columns</p>\n",
       "</div>"
      ],
      "text/plain": [
       "                       file_name  \\\n",
       "764   q_0001213900-22-078475.txt   \n",
       "386   q_0001193125-12-443958.txt   \n",
       "579   q_0001193125-21-320268.txt   \n",
       "885   q_0001019687-15-001871.txt   \n",
       "286   q_0001255823-12-000005.txt   \n",
       "...                          ...   \n",
       "804   k_0001437749-13-011098.txt   \n",
       "1156  k_0001193125-17-280836.txt   \n",
       "568   k_0001144204-13-035058.txt   \n",
       "572   k_0001418819-21-000016.txt   \n",
       "645   q_0001594062-14-000233.txt   \n",
       "\n",
       "                                          expl_note_gpt  \\\n",
       "764   The purpose of this Amendment No. 1 is to amen...   \n",
       "386   The purpose of this Amendment No. 1 to our Qua...   \n",
       "579   The purpose of this Amendment is to refile the...   \n",
       "885   The purpose of this amendment is to file a res...   \n",
       "286   The sole purpose of this Amendment No. 1 on Fo...   \n",
       "...                                                 ...   \n",
       "804   The Company is filing this Amendment No. 1 to ...   \n",
       "1156  The purpose of this Amendment is to amend and ...   \n",
       "568   The purpose of this Amendment No. 1 is to file...   \n",
       "572   The purpose of this Amendment No. 1 on Form 10...   \n",
       "645   The purpose of this Amendment No. 1 on Form 10...   \n",
       "\n",
       "                                 labels  \\\n",
       "764                      [Restatements]   \n",
       "386               [Exhibit 101, Errors]   \n",
       "579                        [Signatures]   \n",
       "885                      [Restatements]   \n",
       "286               [Exhibit 101, Errors]   \n",
       "...                                 ...   \n",
       "804                      [Restatements]   \n",
       "1156      [Report on Internal Controls]   \n",
       "568                            [Errors]   \n",
       "572            [Signatures, Disclosure]   \n",
       "645   [Exhibit 101, Disclosure, Errors]   \n",
       "\n",
       "                                              expl_note  \\\n",
       "764   EXPLANATORY NOTE\\n\\nGesher I Acquisition Corp....   \n",
       "386   Explanatory Note  The purpose of this Amendmen...   \n",
       "579   EXPLANATORY NOTE \\n\\n   We are filing this Ame...   \n",
       "885   EXPLANATORY NOTE \\n\\n This Amendment No. 1 to ...   \n",
       "286   EXPLANATORY NOTE \\nThe sole purpose of this Am...   \n",
       "...                                                 ...   \n",
       "804   EXPLANATORY NOTE\\n\\nSubsequent to filing its A...   \n",
       "1156  Explanatory Note\\n\\n2\\n\\nPART II\\n\\n ITEM 9A.\\...   \n",
       "568   EXPLANATORY NOTE\\n\\nGBS Enterprises Incorporat...   \n",
       "572   EXPLANATORY NOTE\\nThis Amendment No. 1 on Form...   \n",
       "645   Explanatory Note\\n\\n                This Amend...   \n",
       "\n",
       "                                       rule_based_label  \\\n",
       "764                              [Restatements, Errors]   \n",
       "386                               [Errors, Exhibit 101]   \n",
       "579                                 [None of the above]   \n",
       "885                              [Restatements, Errors]   \n",
       "286                               [Errors, Exhibit 101]   \n",
       "...                                                 ...   \n",
       "804                              [Restatements, Errors]   \n",
       "1156  [Restatements, Part III, Report on Internal Co...   \n",
       "568                               [Errors, Exhibit 101]   \n",
       "572                            [Signatures, Disclosure]   \n",
       "645                   [Errors, Exhibit 101, Disclosure]   \n",
       "\n",
       "                          actual_labels  \\\n",
       "764                      [Restatements]   \n",
       "386               [Errors, Exhibit 101]   \n",
       "579                        [Signatures]   \n",
       "885                      [Restatements]   \n",
       "286               [Errors, Exhibit 101]   \n",
       "...                                 ...   \n",
       "804                      [Restatements]   \n",
       "1156      [Report on Internal Controls]   \n",
       "568                            [Errors]   \n",
       "572            [Disclosure, Signatures]   \n",
       "645   [Disclosure, Errors, Exhibit 101]   \n",
       "\n",
       "                             predicted_labels  \n",
       "764                    [Errors, Restatements]  \n",
       "386                     [Errors, Exhibit 101]  \n",
       "579                                  [Errors]  \n",
       "885                    [Errors, Restatements]  \n",
       "286                     [Errors, Exhibit 101]  \n",
       "...                                       ...  \n",
       "804                    [Errors, Restatements]  \n",
       "1156  [Part III, Report on Internal Controls]  \n",
       "568                     [Errors, Exhibit 101]  \n",
       "572                  [Disclosure, Signatures]  \n",
       "645         [Disclosure, Errors, Exhibit 101]  \n",
       "\n",
       "[94 rows x 7 columns]"
      ]
     },
     "execution_count": 35,
     "metadata": {},
     "output_type": "execute_result"
    }
   ],
   "source": [
    "df_results[df_results['labels']!=df_results['predicted_labels']]"
   ]
  },
  {
   "cell_type": "code",
   "execution_count": null,
   "id": "0bd82332-61a5-4cf8-aa86-e6a4ffec4477",
   "metadata": {},
   "outputs": [],
   "source": []
  }
 ],
 "metadata": {
  "kernelspec": {
   "display_name": "Python 3 (ipykernel)",
   "language": "python",
   "name": "python3"
  },
  "language_info": {
   "codemirror_mode": {
    "name": "ipython",
    "version": 3
   },
   "file_extension": ".py",
   "mimetype": "text/x-python",
   "name": "python",
   "nbconvert_exporter": "python",
   "pygments_lexer": "ipython3",
   "version": "3.11.9"
  }
 },
 "nbformat": 4,
 "nbformat_minor": 5
}
